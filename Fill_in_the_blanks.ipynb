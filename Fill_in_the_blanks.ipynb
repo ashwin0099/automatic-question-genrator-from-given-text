{
  "nbformat": 4,
  "nbformat_minor": 0,
  "metadata": {
    "colab": {
      "name": "Fill in the blanks.ipynb",
      "provenance": [],
      "include_colab_link": true
    },
    "kernelspec": {
      "name": "python3",
      "display_name": "Python 3"
    },
    "language_info": {
      "name": "python"
    }
  },
  "cells": [
    {
      "cell_type": "markdown",
      "metadata": {
        "id": "view-in-github",
        "colab_type": "text"
      },
      "source": [
        "<a href=\"https://colab.research.google.com/github/ashwin0099/automatic-question-genrator-from-given-text/blob/main/Fill_in_the_blanks.ipynb\" target=\"_parent\"><img src=\"https://colab.research.google.com/assets/colab-badge.svg\" alt=\"Open In Colab\"/></a>"
      ]
    },
    {
      "cell_type": "code",
      "execution_count": null,
      "metadata": {
        "id": "5358KHjypFXB"
      },
      "outputs": [],
      "source": [
        "!pip install --quiet git+https://github.com/boudinfl/pke.git@dc4d5f21e0ffe64c4df93c46146d29d1c522476b\n",
        "!pip install --quiet flashtext==2.7"
      ]
    },
    {
      "cell_type": "code",
      "source": [
        "import json\n",
        "import requests\n",
        "import string\n",
        "import re\n",
        "import nltk\n",
        "import string\n",
        "import itertools\n",
        "nltk.download('stopwords')\n",
        "nltk.download('wordnet')\n",
        "nltk.download('punkt')\n",
        "import pke\n",
        "from nltk.corpus import stopwords\n",
        "from nltk.corpus import wordnet\n",
        "import traceback\n",
        "from nltk.tokenize import sent_tokenize\n",
        "from flashtext import KeywordProcessor"
      ],
      "metadata": {
        "colab": {
          "base_uri": "https://localhost:8080/"
        },
        "id": "QUtgRAHBpR4R",
        "outputId": "1e7922fb-121f-496b-8946-6eddac48ea25"
      },
      "execution_count": null,
      "outputs": [
        {
          "output_type": "stream",
          "name": "stdout",
          "text": [
            "[nltk_data] Downloading package stopwords to /root/nltk_data...\n",
            "[nltk_data]   Package stopwords is already up-to-date!\n",
            "[nltk_data] Downloading package wordnet to /root/nltk_data...\n",
            "[nltk_data]   Package wordnet is already up-to-date!\n",
            "[nltk_data] Downloading package punkt to /root/nltk_data...\n",
            "[nltk_data]   Package punkt is already up-to-date!\n"
          ]
        }
      ]
    },
    {
      "cell_type": "code",
      "source": [
        "import textwrap\n",
        "fp = open('/content/input1.txt','+r')\n",
        "text = fp.read()\n",
        "wrapper = textwrap.TextWrapper(width=100)\n",
        "word_list = wrapper.wrap(text=text)\n",
        "for element in word_list: \n",
        "  print(element) "
      ],
      "metadata": {
        "colab": {
          "base_uri": "https://localhost:8080/"
        },
        "id": "3T05Rw1qpOeJ",
        "outputId": "db7e31cd-6f7d-42de-cab3-695cff1fc5d3"
      },
      "execution_count": null,
      "outputs": [
        {
          "output_type": "stream",
          "name": "stdout",
          "text": [
            "There is a lot of volcanic activity at divergent plate boundaries in the oceans. For example, many\n",
            "undersea volcanoes are found along the Mid-Atlantic Ridge. This is a divergent plate boundary that\n",
            "runs north-south through the middle of the Atlantic Ocean. As tectonic plates pull away from each\n",
            "other at a divergent plate boundary, they create deep fissures, or cracks, in the crust. Molten\n",
            "rock, called magma, erupts through these cracks onto Earth’s surface. At the surface, the molten\n",
            "rock is called lava. It cools and hardens, forming rock. Divergent plate boundaries also occur in\n",
            "the continental crust. Volcanoes form at these boundaries, but less often than in ocean crust.\n",
            "That’s because continental crust is thicker than oceanic crust. This makes it more difficult for\n",
            "molten rock to push up through the crust. Many volcanoes form along convergent plate boundaries\n",
            "where one tectonic plate is pulled down beneath another at a subduction zone. The leading edge of\n",
            "the plate melts as it is pulled into the mantle, forming magma that erupts as volcanoes. When a line\n",
            "of volcanoes forms along a subduction zone, they make up a volcanic arc. The edges of the Pacific\n",
            "plate are long subduction zones lined with volcanoes. This is why the Pacific rim is called the\n",
            "“Pacific Ring of Fire.\n"
          ]
        }
      ]
    },
    {
      "cell_type": "code",
      "source": [
        "def tokenize_sentences(text):\n",
        "    sentences = sent_tokenize(text)\n",
        "    sentences = [sentence.strip() for sentence in sentences if len(sentence) > 20]\n",
        "    return sentences\n",
        "\n",
        "sentences = tokenize_sentences(text)\n",
        "print (sentences)"
      ],
      "metadata": {
        "colab": {
          "base_uri": "https://localhost:8080/"
        },
        "id": "LCwlkyTepUBB",
        "outputId": "146ff8a1-bc3f-41cd-def5-11df28220de0"
      },
      "execution_count": null,
      "outputs": [
        {
          "output_type": "stream",
          "name": "stdout",
          "text": [
            "['There is a lot of volcanic activity at divergent plate boundaries in the oceans.', 'For example, many undersea volcanoes are found along the Mid-Atlantic Ridge.', 'This is a divergent plate boundary that runs north-south through the middle of the Atlantic Ocean.', 'As tectonic plates pull away from each other at a divergent plate boundary, they create deep fissures, or cracks, in the crust.', 'Molten rock, called magma, erupts through these cracks onto Earth’s surface.', 'At the surface, the molten rock is called lava.', 'It cools and hardens, forming rock.', 'Divergent plate boundaries also occur in the continental crust.', 'Volcanoes form at these boundaries, but less often than in ocean crust.', 'That’s because continental crust is thicker than oceanic crust.', 'This makes it more difficult for molten rock to push up through the crust.', 'Many volcanoes form along convergent plate boundaries where one tectonic plate is pulled down beneath another at a subduction zone.', 'The leading edge of the plate melts as it is pulled into the mantle, forming magma that erupts as volcanoes.', 'When a line of volcanoes forms along a subduction zone, they make up a volcanic arc.', 'The edges of the Pacific plate are long subduction zones lined with volcanoes.', 'This is why the Pacific rim is called the “Pacific Ring of Fire.']\n"
          ]
        }
      ]
    },
    {
      "cell_type": "code",
      "source": [
        "def get_noun_adj_verb(text):\n",
        "    out=[]\n",
        "    try:\n",
        "        extractor = pke.unsupervised.MultipartiteRank()\n",
        "        extractor.load_document(input=text)\n",
        "        #    not contain punctuation marks or stopwords as candidates.\n",
        "        pos = {'VERB', 'ADJ', 'NOUN'}\n",
        "        stoplist = list(string.punctuation)\n",
        "        stoplist += ['-lrb-', '-rrb-', '-lcb-', '-rcb-', '-lsb-', '-rsb-']\n",
        "        stoplist += stopwords.words('english')\n",
        "        extractor.candidate_selection(pos=pos, stoplist=stoplist)\n",
        "        # 4. build the Multipartite graph and rank candidates using random walk,\n",
        "        #    alpha controls the weight adjustment mechanism, see TopicRank for\n",
        "        #    threshold/method parameters.\n",
        "        extractor.candidate_weighting(alpha=1.1,\n",
        "                                      threshold=0.75,\n",
        "                                      method='average')\n",
        "        keyphrases = extractor.get_n_best(n=30)\n",
        "        \n",
        "\n",
        "        for val in keyphrases:\n",
        "            out.append(val[0])\n",
        "    except:\n",
        "        out = []\n",
        "        traceback.print_exc()\n",
        "\n",
        "    return out\n",
        "\n",
        "noun_verbs_adj = get_noun_adj_verb(text)\n",
        "print (\"keywords: \",noun_verbs_adj)"
      ],
      "metadata": {
        "colab": {
          "base_uri": "https://localhost:8080/"
        },
        "id": "cs8VeitXpXdt",
        "outputId": "c61e7b1d-71e6-42a7-8134-5a0d98c2848c"
      },
      "execution_count": null,
      "outputs": [
        {
          "output_type": "stream",
          "name": "stdout",
          "text": [
            "keywords:  ['divergent plate boundaries', 'many undersea volcanoes', 'crust', 'oceans', 'molten rock', 'tectonic plates pull', 'called', 'example', 'volcanic activity', 'cracks', 'found', 'forming rock', 'surface', 'subduction zone', 'erupts', 'continental crust', 'volcanoes form', 'ocean crust', 'runs', 'makes', 'pulled', 'lot', 'south', 'leading edge', 'hardens', 'middle', 'earth', 'create deep fissures', 'cools', 'volcanoes']\n"
          ]
        }
      ]
    },
    {
      "cell_type": "code",
      "source": [
        "from pprint import pprint\n",
        "def get_sentences_for_keyword(keywords, sentences):\n",
        "    keyword_processor = KeywordProcessor()\n",
        "    keyword_sentences = {}\n",
        "    for word in keywords:\n",
        "        keyword_sentences[word] = []\n",
        "        keyword_processor.add_keyword(word)\n",
        "    for sentence in sentences:\n",
        "        keywords_found = keyword_processor.extract_keywords(sentence)\n",
        "        for key in keywords_found:\n",
        "            keyword_sentences[key].append(sentence)\n",
        "\n",
        "    for key in keyword_sentences.keys():\n",
        "        values = keyword_sentences[key]\n",
        "        values = sorted(values, key=len, reverse=True)\n",
        "        keyword_sentences[key] = values\n",
        "    return keyword_sentences\n",
        "\n",
        "keyword_sentence_mapping_noun_verbs_adj = get_sentences_for_keyword(noun_verbs_adj, sentences)\n",
        "pprint (keyword_sentence_mapping_noun_verbs_adj)"
      ],
      "metadata": {
        "colab": {
          "base_uri": "https://localhost:8080/"
        },
        "id": "rG0p1l2SpZnt",
        "outputId": "335c96c9-b1a1-40b4-f397-1da96606a8e9"
      },
      "execution_count": null,
      "outputs": [
        {
          "output_type": "stream",
          "name": "stdout",
          "text": [
            "{'called': ['Molten rock, called magma, erupts through these cracks onto '\n",
            "            'Earth’s surface.',\n",
            "            'This is why the Pacific rim is called the “Pacific Ring of Fire.',\n",
            "            'At the surface, the molten rock is called lava.'],\n",
            " 'continental crust': ['Divergent plate boundaries also occur in the '\n",
            "                       'continental crust.',\n",
            "                       'That’s because continental crust is thicker than '\n",
            "                       'oceanic crust.'],\n",
            " 'cools': ['It cools and hardens, forming rock.'],\n",
            " 'cracks': ['As tectonic plates pull away from each other at a divergent plate '\n",
            "            'boundary, they create deep fissures, or cracks, in the crust.',\n",
            "            'Molten rock, called magma, erupts through these cracks onto '\n",
            "            'Earth’s surface.'],\n",
            " 'create deep fissures': ['As tectonic plates pull away from each other at a '\n",
            "                          'divergent plate boundary, they create deep '\n",
            "                          'fissures, or cracks, in the crust.'],\n",
            " 'crust': ['As tectonic plates pull away from each other at a divergent plate '\n",
            "           'boundary, they create deep fissures, or cracks, in the crust.',\n",
            "           'This makes it more difficult for molten rock to push up through '\n",
            "           'the crust.',\n",
            "           'That’s because continental crust is thicker than oceanic crust.'],\n",
            " 'divergent plate boundaries': ['There is a lot of volcanic activity at '\n",
            "                                'divergent plate boundaries in the oceans.',\n",
            "                                'Divergent plate boundaries also occur in the '\n",
            "                                'continental crust.'],\n",
            " 'earth': ['Molten rock, called magma, erupts through these cracks onto '\n",
            "           'Earth’s surface.'],\n",
            " 'erupts': ['The leading edge of the plate melts as it is pulled into the '\n",
            "            'mantle, forming magma that erupts as volcanoes.',\n",
            "            'Molten rock, called magma, erupts through these cracks onto '\n",
            "            'Earth’s surface.'],\n",
            " 'example': ['For example, many undersea volcanoes are found along the '\n",
            "             'Mid-Atlantic Ridge.'],\n",
            " 'forming rock': ['It cools and hardens, forming rock.'],\n",
            " 'found': ['For example, many undersea volcanoes are found along the '\n",
            "           'Mid-Atlantic Ridge.'],\n",
            " 'hardens': ['It cools and hardens, forming rock.'],\n",
            " 'leading edge': ['The leading edge of the plate melts as it is pulled into '\n",
            "                  'the mantle, forming magma that erupts as volcanoes.'],\n",
            " 'lot': ['There is a lot of volcanic activity at divergent plate boundaries in '\n",
            "         'the oceans.'],\n",
            " 'makes': ['This makes it more difficult for molten rock to push up through '\n",
            "           'the crust.'],\n",
            " 'many undersea volcanoes': ['For example, many undersea volcanoes are found '\n",
            "                             'along the Mid-Atlantic Ridge.'],\n",
            " 'middle': ['This is a divergent plate boundary that runs north-south through '\n",
            "            'the middle of the Atlantic Ocean.'],\n",
            " 'molten rock': ['Molten rock, called magma, erupts through these cracks onto '\n",
            "                 'Earth’s surface.',\n",
            "                 'This makes it more difficult for molten rock to push up '\n",
            "                 'through the crust.',\n",
            "                 'At the surface, the molten rock is called lava.'],\n",
            " 'ocean crust': ['Volcanoes form at these boundaries, but less often than in '\n",
            "                 'ocean crust.'],\n",
            " 'oceans': ['There is a lot of volcanic activity at divergent plate boundaries '\n",
            "            'in the oceans.'],\n",
            " 'pulled': ['Many volcanoes form along convergent plate boundaries where one '\n",
            "            'tectonic plate is pulled down beneath another at a subduction '\n",
            "            'zone.',\n",
            "            'The leading edge of the plate melts as it is pulled into the '\n",
            "            'mantle, forming magma that erupts as volcanoes.'],\n",
            " 'runs': ['This is a divergent plate boundary that runs north-south through '\n",
            "          'the middle of the Atlantic Ocean.'],\n",
            " 'south': ['This is a divergent plate boundary that runs north-south through '\n",
            "           'the middle of the Atlantic Ocean.'],\n",
            " 'subduction zone': ['Many volcanoes form along convergent plate boundaries '\n",
            "                     'where one tectonic plate is pulled down beneath another '\n",
            "                     'at a subduction zone.',\n",
            "                     'When a line of volcanoes forms along a subduction zone, '\n",
            "                     'they make up a volcanic arc.'],\n",
            " 'surface': ['Molten rock, called magma, erupts through these cracks onto '\n",
            "             'Earth’s surface.',\n",
            "             'At the surface, the molten rock is called lava.'],\n",
            " 'tectonic plates pull': ['As tectonic plates pull away from each other at a '\n",
            "                          'divergent plate boundary, they create deep '\n",
            "                          'fissures, or cracks, in the crust.'],\n",
            " 'volcanic activity': ['There is a lot of volcanic activity at divergent plate '\n",
            "                       'boundaries in the oceans.'],\n",
            " 'volcanoes': ['The leading edge of the plate melts as it is pulled into the '\n",
            "               'mantle, forming magma that erupts as volcanoes.',\n",
            "               'When a line of volcanoes forms along a subduction zone, they '\n",
            "               'make up a volcanic arc.',\n",
            "               'The edges of the Pacific plate are long subduction zones lined '\n",
            "               'with volcanoes.'],\n",
            " 'volcanoes form': ['Many volcanoes form along convergent plate boundaries '\n",
            "                    'where one tectonic plate is pulled down beneath another '\n",
            "                    'at a subduction zone.',\n",
            "                    'Volcanoes form at these boundaries, but less often than '\n",
            "                    'in ocean crust.']}\n"
          ]
        }
      ]
    },
    {
      "cell_type": "code",
      "source": [
        "def get_fill_in_the_blanks(sentence_mapping):\n",
        "    out={\"title\":\"Fill in the blanks for these sentences with matching words at the top\"}\n",
        "    blank_sentences = []\n",
        "    processed = []\n",
        "    keys=[]\n",
        "    for key in sentence_mapping:\n",
        "        if len(sentence_mapping[key])>0:\n",
        "            sent = sentence_mapping[key][0]\n",
        "            # Compile a regular expression pattern into a regular expression object, which can be used for matching and other methods\n",
        "            insensitive_sent = re.compile(re.escape(key), re.IGNORECASE)\n",
        "            no_of_replacements =  len(re.findall(re.escape(key),sent,re.IGNORECASE))\n",
        "            line = insensitive_sent.sub(' _________ ', sent)\n",
        "            if (sentence_mapping[key][0] not in processed) and no_of_replacements<2:\n",
        "                blank_sentences.append(line)\n",
        "                processed.append(sentence_mapping[key][0])\n",
        "                keys.append(key)\n",
        "    out[\"sentences\"]=blank_sentences[:10]\n",
        "    out[\"keys\"]=keys[:10]\n",
        "    return out\n",
        "\n",
        "\n",
        "fill_in_the_blanks = get_fill_in_the_blanks(keyword_sentence_mapping_noun_verbs_adj)\n",
        "pprint(fill_in_the_blanks)"
      ],
      "metadata": {
        "colab": {
          "base_uri": "https://localhost:8080/"
        },
        "id": "x-cJl7ZxpfEd",
        "outputId": "db7331c1-daa7-4204-c794-361f7912f186"
      },
      "execution_count": null,
      "outputs": [
        {
          "output_type": "stream",
          "name": "stdout",
          "text": [
            "{'keys': ['divergent plate boundaries',\n",
            "          'many undersea volcanoes',\n",
            "          'crust',\n",
            "          'molten rock',\n",
            "          'forming rock',\n",
            "          'subduction zone',\n",
            "          'erupts',\n",
            "          'continental crust',\n",
            "          'ocean crust',\n",
            "          'runs'],\n",
            " 'sentences': ['There is a lot of volcanic activity at  _________  in the '\n",
            "               'oceans.',\n",
            "               'For example,  _________  are found along the Mid-Atlantic '\n",
            "               'Ridge.',\n",
            "               'As tectonic plates pull away from each other at a divergent '\n",
            "               'plate boundary, they create deep fissures, or cracks, in the  '\n",
            "               '_________ .',\n",
            "               ' _________ , called magma, erupts through these cracks onto '\n",
            "               'Earth’s surface.',\n",
            "               'It cools and hardens,  _________ .',\n",
            "               'Many volcanoes form along convergent plate boundaries where '\n",
            "               'one tectonic plate is pulled down beneath another at a  '\n",
            "               '_________ .',\n",
            "               'The leading edge of the plate melts as it is pulled into the '\n",
            "               'mantle, forming magma that  _________  as volcanoes.',\n",
            "               'Divergent plate boundaries also occur in the  _________ .',\n",
            "               'Volcanoes form at these boundaries, but less often than in  '\n",
            "               '_________ .',\n",
            "               'This is a divergent plate boundary that  _________  '\n",
            "               'north-south through the middle of the Atlantic Ocean.'],\n",
            " 'title': 'Fill in the blanks for these sentences with matching words at the '\n",
            "          'top'}\n"
          ]
        }
      ]
    },
    {
      "cell_type": "code",
      "source": [
        "from IPython.core.display import display, HTML\n",
        "import xml.etree.ElementTree as et\n",
        "import random\n",
        "\n",
        "root = et.Element(\"div\")\n",
        "\n",
        "heading = et.Element(\"h2\")\n",
        "heading.text = fill_in_the_blanks['title']\n",
        "\n",
        "keywords = et.Element(\"ul\")\n",
        "keywords.set('style', 'color:blue;')\n",
        "\n",
        "all_keys = fill_in_the_blanks['keys']\n",
        "random.shuffle(all_keys)\n",
        "for blank in all_keys:\n",
        "  child=et.Element(\"li\")\n",
        "  child.text = blank\n",
        "  keywords.append(child)\n",
        "\n",
        "sentences = et.Element(\"ol\")\n",
        "sentences.set('style', 'color:brown;')\n",
        "for sentence in fill_in_the_blanks['sentences']:\n",
        "  child=et.Element(\"li\")\n",
        "  child.text = sentence\n",
        "  sentences.append(child)\n",
        "  sentences.append(et.Element(\"br\"))\n",
        "\n",
        "heading_content = et.Element(\"h4\")\n",
        "\n",
        "root.append(heading)\n",
        "heading_content.append(keywords)\n",
        "heading_content.append(sentences)\n",
        "root.append(heading_content)\n",
        "\n",
        "xmlstr = et.tostring(root)\n",
        "xmlstr = xmlstr.decode(\"utf-8\") \n",
        "display(HTML(xmlstr))"
      ],
      "metadata": {
        "colab": {
          "base_uri": "https://localhost:8080/",
          "height": 627
        },
        "id": "910eGDKspjlW",
        "outputId": "f5601ed2-018d-4f5e-f81f-3ab195ae02ae"
      },
      "execution_count": null,
      "outputs": [
        {
          "output_type": "display_data",
          "data": {
            "text/plain": [
              "<IPython.core.display.HTML object>"
            ],
            "text/html": [
              "<div><h2>Fill in the blanks for these sentences with matching words at the top</h2><h4><ul style=\"color:blue;\"><li>erupts</li><li>runs</li><li>subduction zone</li><li>forming rock</li><li>molten rock</li><li>divergent plate boundaries</li><li>many undersea volcanoes</li><li>crust</li><li>continental crust</li><li>ocean crust</li></ul><ol style=\"color:brown;\"><li>There is a lot of volcanic activity at  _________  in the oceans.</li><br /><li>For example,  _________  are found along the Mid-Atlantic Ridge.</li><br /><li>As tectonic plates pull away from each other at a divergent plate boundary, they create deep fissures, or cracks, in the  _________ .</li><br /><li> _________ , called magma, erupts through these cracks onto Earth&#8217;s surface.</li><br /><li>It cools and hardens,  _________ .</li><br /><li>Many volcanoes form along convergent plate boundaries where one tectonic plate is pulled down beneath another at a  _________ .</li><br /><li>The leading edge of the plate melts as it is pulled into the mantle, forming magma that  _________  as volcanoes.</li><br /><li>Divergent plate boundaries also occur in the  _________ .</li><br /><li>Volcanoes form at these boundaries, but less often than in  _________ .</li><br /><li>This is a divergent plate boundary that  _________  north-south through the middle of the Atlantic Ocean.</li><br /></ol></h4></div>"
            ]
          },
          "metadata": {}
        }
      ]
    }
  ]
}